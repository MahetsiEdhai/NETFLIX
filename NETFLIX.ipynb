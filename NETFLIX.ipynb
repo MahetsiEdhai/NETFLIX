{
  "nbformat": 4,
  "nbformat_minor": 0,
  "metadata": {
    "colab": {
      "provenance": [],
      "authorship_tag": "ABX9TyN4XjAE0CJNQOpkp5GCrKes",
      "include_colab_link": true
    },
    "kernelspec": {
      "name": "python3",
      "display_name": "Python 3"
    },
    "language_info": {
      "name": "python"
    }
  },
  "cells": [
    {
      "cell_type": "markdown",
      "metadata": {
        "id": "view-in-github",
        "colab_type": "text"
      },
      "source": [
        "<a href=\"https://colab.research.google.com/github/MahetsiEdhai/NETFLIX/blob/main/NETFLIX.ipynb\" target=\"_parent\"><img src=\"https://colab.research.google.com/assets/colab-badge.svg\" alt=\"Open In Colab\"/></a>"
      ]
    },
    {
      "cell_type": "markdown",
      "source": [
        "****1. IMPORTAMOS NUESTRO CONJUNTO DE DATOS QUE SE OBTUBO DESDE KEAGGLE, PERO PRIMERO IMPORTAMOS LAS LIBRERIAS REQUERIDAS****"
      ],
      "metadata": {
        "id": "VYUk96qX66NC"
      }
    },
    {
      "cell_type": "code",
      "execution_count": null,
      "metadata": {
        "id": "1PZr8rF361qR"
      },
      "outputs": [],
      "source": [
        "import pandas as pd\n",
        "datos = pd.read_csv(\"8. Netflix Dataset.csv\")\n",
        "print(datos.head())"
      ]
    },
    {
      "cell_type": "markdown",
      "source": [
        "2. INTENTAREMOS OBTENER INFORMACION BASICA"
      ],
      "metadata": {
        "id": "qEQygJFj-F2q"
      }
    },
    {
      "cell_type": "code",
      "source": [
        "datos.head() #muestra los primero 5 elementos del DF"
      ],
      "metadata": {
        "id": "peukDZH18Xkn"
      },
      "execution_count": null,
      "outputs": []
    },
    {
      "cell_type": "code",
      "source": [
        "datos.tail() #muestra los ultimos 5 elementos del DF"
      ],
      "metadata": {
        "id": "37-S9OUD-oG-"
      },
      "execution_count": null,
      "outputs": []
    },
    {
      "cell_type": "code",
      "source": [
        "datos.shape #muestra el numero de filas y columnas"
      ],
      "metadata": {
        "id": "BJqPRGh8-6xr"
      },
      "execution_count": null,
      "outputs": []
    },
    {
      "cell_type": "code",
      "source": [
        "datos.size # muestra el numero total de elementos del DF"
      ],
      "metadata": {
        "id": "t4h6dmiA_TB8"
      },
      "execution_count": null,
      "outputs": []
    },
    {
      "cell_type": "code",
      "source": [
        "datos.columns # muestra el nombre de cada columna del DF"
      ],
      "metadata": {
        "id": "B-aRHlvw_2nY"
      },
      "execution_count": null,
      "outputs": []
    },
    {
      "cell_type": "code",
      "source": [
        "datos.dtypes # muestra el tipo de dato de cada columna"
      ],
      "metadata": {
        "id": "LPv9r4pvAMa_"
      },
      "execution_count": null,
      "outputs": []
    },
    {
      "cell_type": "code",
      "source": [
        "datos.info() # muestra indices, columnas, tipos de datos de cada columna, memoria en uso"
      ],
      "metadata": {
        "id": "CAFLJzY5A0o7"
      },
      "execution_count": null,
      "outputs": []
    },
    {
      "cell_type": "markdown",
      "source": [
        "***TAREA 1: ¿EXISTE ALGUN REGISTRO DUPLICADO EN NUESTRO DATA SET? DE SER ASI ELIMINAR ESOS REGISTROS DUPLICADOS***"
      ],
      "metadata": {
        "id": "mtouHsyTDyEu"
      }
    },
    {
      "cell_type": "code",
      "source": [
        "datos.head()"
      ],
      "metadata": {
        "id": "6zs2t3WJDlKH"
      },
      "execution_count": null,
      "outputs": []
    },
    {
      "cell_type": "code",
      "source": [
        "datos.shape"
      ],
      "metadata": {
        "id": "t7Zk8-2aB6el"
      },
      "execution_count": null,
      "outputs": []
    },
    {
      "cell_type": "code",
      "source": [
        "datos[datos.duplicated()] #para verificar la fila unica y detectar sus filas duplicadas; las filas que se muestran son las duplicadas"
      ],
      "metadata": {
        "id": "LXTT6N9cEW4M"
      },
      "execution_count": null,
      "outputs": []
    },
    {
      "cell_type": "code",
      "source": [
        "datos.drop_duplicates(inplace = True) # eliminamos las filas duplicadas, encontradas con el comando anterior tambien se puede usar datos.drop_duplicates(inplace=TRUE)"
      ],
      "metadata": {
        "id": "5Vmp6PunFgSU"
      },
      "execution_count": 83,
      "outputs": []
    },
    {
      "cell_type": "code",
      "source": [
        "datos[datos.duplicated()]"
      ],
      "metadata": {
        "id": "xp1kyLqHGIzF"
      },
      "execution_count": null,
      "outputs": []
    },
    {
      "cell_type": "code",
      "source": [
        "datos.shape #observamos que ya se han eliminado las dos filas repetidas"
      ],
      "metadata": {
        "id": "28Ja5vuXHvXM"
      },
      "execution_count": null,
      "outputs": []
    },
    {
      "cell_type": "markdown",
      "source": [
        "***TAREA 2: ¿EXISTE ALGUN DATO NULO EN NUESTRO DATA SET? MOSTRARLO CON UN MAPA DE CALOR***"
      ],
      "metadata": {
        "id": "lk_3RbLOH9Y0"
      }
    },
    {
      "cell_type": "code",
      "source": [
        "datos.head()"
      ],
      "metadata": {
        "id": "IiQaY8pyHwsR"
      },
      "execution_count": null,
      "outputs": []
    },
    {
      "cell_type": "code",
      "source": [
        "datos.isnull() # muestrasi es que hay valores nulos"
      ],
      "metadata": {
        "id": "DraJWMZIIyFD"
      },
      "execution_count": null,
      "outputs": []
    },
    {
      "cell_type": "code",
      "source": [
        "datos.isnull().sum() #muestra los valores nulos de cada columna"
      ],
      "metadata": {
        "id": "5Gy3eZ3uJAp1"
      },
      "execution_count": null,
      "outputs": []
    },
    {
      "cell_type": "markdown",
      "source": [
        "****diagrama de calor de los valores nulos****"
      ],
      "metadata": {
        "id": "Sz3tZ2GGKBTK"
      }
    },
    {
      "cell_type": "code",
      "source": [
        "import seaborn as sns #importamos la libreria"
      ],
      "metadata": {
        "id": "HnFdPNDtKIxv"
      },
      "execution_count": 89,
      "outputs": []
    },
    {
      "cell_type": "code",
      "source": [
        "sns.heatmap(datos.isnull())"
      ],
      "metadata": {
        "id": "fekvR2N_Kq78"
      },
      "execution_count": null,
      "outputs": []
    },
    {
      "cell_type": "markdown",
      "source": [
        "***PREGUNTA 1. EN \"HOUSE OF CARDS ¿CUAL ES EL ID DEL PROGRAMA Y QUIEN ES EL DIRECTOR?***"
      ],
      "metadata": {
        "id": "UeWWqWOcLrYB"
      }
    },
    {
      "cell_type": "code",
      "source": [
        "datos.head()"
      ],
      "metadata": {
        "id": "NjdEgsS-Kvvt"
      },
      "execution_count": null,
      "outputs": []
    },
    {
      "cell_type": "code",
      "source": [
        "datos[\"Title\"] # muestra los registros de una columna en especifico"
      ],
      "metadata": {
        "id": "61G-PTRYMGdR"
      },
      "execution_count": null,
      "outputs": []
    },
    {
      "cell_type": "code",
      "source": [
        "datos[\"Title\"].isin([\"House of Cards\"]) # muestra un dato especifico de la columna si es que existe"
      ],
      "metadata": {
        "id": "kq7DcCXiMu71"
      },
      "execution_count": null,
      "outputs": []
    },
    {
      "cell_type": "code",
      "source": [
        "datos[datos[\"Title\"].isin([\"House of Cards\"])] #Solo muestra la coincidencia que le indico"
      ],
      "metadata": {
        "id": "JGk78CDLNYxQ"
      },
      "execution_count": null,
      "outputs": []
    },
    {
      "cell_type": "code",
      "source": [
        "datos[datos['Title'].str.contains(\"House of Cards\")] # HACE EXACTAMENTE LO MISMO QUE EL CODIGO ANTERIRO"
      ],
      "metadata": {
        "id": "QoLhtA1JNx9D"
      },
      "execution_count": null,
      "outputs": []
    },
    {
      "cell_type": "markdown",
      "source": [
        "***TAREA 2 ¿EN QUE AÑO SE ESTRENO EL MAYOR NUMERO DE PROGRAMAS DE TELEVISION Y PELICULAS? MOSTRAR CON UN DIAGRAMA DE BARRAS***"
      ],
      "metadata": {
        "id": "8sFlpJdRPY6r"
      }
    },
    {
      "cell_type": "code",
      "source": [
        "datos.dtypes"
      ],
      "metadata": {
        "id": "g26hjDPLPH_I"
      },
      "execution_count": null,
      "outputs": []
    },
    {
      "cell_type": "code",
      "source": [
        "datos['Datos_N'] = pd.to_datetime(datos['Release_Date']) #creamos una nueva columna llamada Datos_N"
      ],
      "metadata": {
        "id": "vN-ZSeQyQeUL"
      },
      "execution_count": 97,
      "outputs": []
    },
    {
      "cell_type": "code",
      "source": [
        "datos.head()"
      ],
      "metadata": {
        "id": "LyAibAcHRO_x"
      },
      "execution_count": null,
      "outputs": []
    },
    {
      "cell_type": "code",
      "source": [
        "datos.dtypes"
      ],
      "metadata": {
        "id": "9PgDGZ58RQdU"
      },
      "execution_count": null,
      "outputs": []
    },
    {
      "cell_type": "code",
      "source": [
        "datos['Datos_N'].dt.year.value_counts() #cuenta las ocurrencias de todos los años individuales en las columnas de datos"
      ],
      "metadata": {
        "id": "O-3Ymgs_RjHu"
      },
      "execution_count": null,
      "outputs": []
    },
    {
      "cell_type": "markdown",
      "source": [
        "****GRAFICAMOS****"
      ],
      "metadata": {
        "id": "TrmPvLwjTbY4"
      }
    },
    {
      "cell_type": "code",
      "source": [
        "datos['Datos_N'].dt.year.value_counts().plot(kind = \"bar\")"
      ],
      "metadata": {
        "id": "ZE-xFCPnSn-5"
      },
      "execution_count": null,
      "outputs": []
    },
    {
      "cell_type": "markdown",
      "source": [
        "****TAREA 3 ¿CUANTAS PELICULAS Y PROGRAMAS DE TELEVISION HAY EN EL DATASET? REALIZA UN DIAGRAMA DE BARRAS ****"
      ],
      "metadata": {
        "id": "OmkTLSO0UShb"
      }
    },
    {
      "cell_type": "code",
      "source": [
        "datos.head(2)"
      ],
      "metadata": {
        "id": "QkNqk1NJTnPI"
      },
      "execution_count": null,
      "outputs": []
    },
    {
      "cell_type": "code",
      "source": [
        "datos.groupby('Category')"
      ],
      "metadata": {
        "id": "bsSU41yjUt1n"
      },
      "execution_count": null,
      "outputs": []
    },
    {
      "cell_type": "code",
      "source": [
        "datos.groupby('Category').Category.count() # agrupa todos los elementos unicos de una columna y los cuenta"
      ],
      "metadata": {
        "id": "LUlGx1bHVYSx"
      },
      "execution_count": null,
      "outputs": []
    },
    {
      "cell_type": "code",
      "source": [
        "sns.countplot(x=datos['Category'])"
      ],
      "metadata": {
        "id": "Fl7owRx8V557"
      },
      "execution_count": null,
      "outputs": []
    },
    {
      "cell_type": "markdown",
      "source": [
        "****PREGUNTA 4. MUESTRA TODAS LAS PELICULAS QUE SE ESTRENARON EN EL AÑO 2000****"
      ],
      "metadata": {
        "id": "Ho207CLAhdnN"
      }
    },
    {
      "cell_type": "code",
      "source": [
        "datos.head(2)"
      ],
      "metadata": {
        "id": "aDuFMlkDXwUn"
      },
      "execution_count": null,
      "outputs": []
    },
    {
      "cell_type": "code",
      "source": [
        "datos['Year'] = datos['Datos_N'].dt.year"
      ],
      "metadata": {
        "id": "uKjMTGHohx62"
      },
      "execution_count": 113,
      "outputs": []
    },
    {
      "cell_type": "code",
      "source": [
        "datos.head(2)"
      ],
      "metadata": {
        "id": "WPYxCnR2igKN"
      },
      "execution_count": null,
      "outputs": []
    },
    {
      "cell_type": "markdown",
      "source": [
        "*****FILTRAMOS*****"
      ],
      "metadata": {
        "id": "-ivdt-VliyHu"
      }
    },
    {
      "cell_type": "code",
      "source": [
        "datos[(datos['Category']=='Movie') & (datos['Year']==2020)] #de la columna Category seleccionamos solo a Movie y de la columna Year solo 2020"
      ],
      "metadata": {
        "id": "5yw6bdiEkWCe"
      },
      "execution_count": null,
      "outputs": []
    },
    {
      "cell_type": "markdown",
      "source": [
        "****PREGUNTA 5. MOSTRAR TODOS LOS PROGRAMAS DE TELEVISION QUE SE LANZARON SOLO EN MEXICO****"
      ],
      "metadata": {
        "id": "HNbmqHQtnYhu"
      }
    },
    {
      "cell_type": "code",
      "source": [
        "datos.head(2)"
      ],
      "metadata": {
        "colab": {
          "base_uri": "https://localhost:8080/",
          "height": 278
        },
        "id": "ORUgNeVvkgeq",
        "outputId": "d902397c-a7dc-4a77-da86-05c80e396ccf"
      },
      "execution_count": 136,
      "outputs": [
        {
          "output_type": "execute_result",
          "data": {
            "text/plain": [
              "  Show_Id Category  Title           Director  \\\n",
              "0      s1  TV Show     3%                NaN   \n",
              "1      s2    Movie  07:19  Jorge Michel Grau   \n",
              "\n",
              "                                                Cast Country  \\\n",
              "0  João Miguel, Bianca Comparato, Michel Gomes, R...  Brazil   \n",
              "1  Demián Bichir, Héctor Bonilla, Oscar Serrano, ...  Mexico   \n",
              "\n",
              "        Release_Date Rating   Duration  \\\n",
              "0    August 14, 2020  TV-MA  4 Seasons   \n",
              "1  December 23, 2016  TV-MA     93 min   \n",
              "\n",
              "                                                Type  \\\n",
              "0  International TV Shows, TV Dramas, TV Sci-Fi &...   \n",
              "1                       Dramas, International Movies   \n",
              "\n",
              "                                         Description    Datos_N    Year  \n",
              "0  In a future where the elite inhabit an island ... 2020-08-14  2020.0  \n",
              "1  After a devastating earthquake hits Mexico Cit... 2016-12-23  2016.0  "
            ],
            "text/html": [
              "\n",
              "  <div id=\"df-f84d3e04-ad17-491c-a4a4-7ed94f9c616b\">\n",
              "    <div class=\"colab-df-container\">\n",
              "      <div>\n",
              "<style scoped>\n",
              "    .dataframe tbody tr th:only-of-type {\n",
              "        vertical-align: middle;\n",
              "    }\n",
              "\n",
              "    .dataframe tbody tr th {\n",
              "        vertical-align: top;\n",
              "    }\n",
              "\n",
              "    .dataframe thead th {\n",
              "        text-align: right;\n",
              "    }\n",
              "</style>\n",
              "<table border=\"1\" class=\"dataframe\">\n",
              "  <thead>\n",
              "    <tr style=\"text-align: right;\">\n",
              "      <th></th>\n",
              "      <th>Show_Id</th>\n",
              "      <th>Category</th>\n",
              "      <th>Title</th>\n",
              "      <th>Director</th>\n",
              "      <th>Cast</th>\n",
              "      <th>Country</th>\n",
              "      <th>Release_Date</th>\n",
              "      <th>Rating</th>\n",
              "      <th>Duration</th>\n",
              "      <th>Type</th>\n",
              "      <th>Description</th>\n",
              "      <th>Datos_N</th>\n",
              "      <th>Year</th>\n",
              "    </tr>\n",
              "  </thead>\n",
              "  <tbody>\n",
              "    <tr>\n",
              "      <th>0</th>\n",
              "      <td>s1</td>\n",
              "      <td>TV Show</td>\n",
              "      <td>3%</td>\n",
              "      <td>NaN</td>\n",
              "      <td>João Miguel, Bianca Comparato, Michel Gomes, R...</td>\n",
              "      <td>Brazil</td>\n",
              "      <td>August 14, 2020</td>\n",
              "      <td>TV-MA</td>\n",
              "      <td>4 Seasons</td>\n",
              "      <td>International TV Shows, TV Dramas, TV Sci-Fi &amp;...</td>\n",
              "      <td>In a future where the elite inhabit an island ...</td>\n",
              "      <td>2020-08-14</td>\n",
              "      <td>2020.0</td>\n",
              "    </tr>\n",
              "    <tr>\n",
              "      <th>1</th>\n",
              "      <td>s2</td>\n",
              "      <td>Movie</td>\n",
              "      <td>07:19</td>\n",
              "      <td>Jorge Michel Grau</td>\n",
              "      <td>Demián Bichir, Héctor Bonilla, Oscar Serrano, ...</td>\n",
              "      <td>Mexico</td>\n",
              "      <td>December 23, 2016</td>\n",
              "      <td>TV-MA</td>\n",
              "      <td>93 min</td>\n",
              "      <td>Dramas, International Movies</td>\n",
              "      <td>After a devastating earthquake hits Mexico Cit...</td>\n",
              "      <td>2016-12-23</td>\n",
              "      <td>2016.0</td>\n",
              "    </tr>\n",
              "  </tbody>\n",
              "</table>\n",
              "</div>\n",
              "      <button class=\"colab-df-convert\" onclick=\"convertToInteractive('df-f84d3e04-ad17-491c-a4a4-7ed94f9c616b')\"\n",
              "              title=\"Convert this dataframe to an interactive table.\"\n",
              "              style=\"display:none;\">\n",
              "        \n",
              "  <svg xmlns=\"http://www.w3.org/2000/svg\" height=\"24px\"viewBox=\"0 0 24 24\"\n",
              "       width=\"24px\">\n",
              "    <path d=\"M0 0h24v24H0V0z\" fill=\"none\"/>\n",
              "    <path d=\"M18.56 5.44l.94 2.06.94-2.06 2.06-.94-2.06-.94-.94-2.06-.94 2.06-2.06.94zm-11 1L8.5 8.5l.94-2.06 2.06-.94-2.06-.94L8.5 2.5l-.94 2.06-2.06.94zm10 10l.94 2.06.94-2.06 2.06-.94-2.06-.94-.94-2.06-.94 2.06-2.06.94z\"/><path d=\"M17.41 7.96l-1.37-1.37c-.4-.4-.92-.59-1.43-.59-.52 0-1.04.2-1.43.59L10.3 9.45l-7.72 7.72c-.78.78-.78 2.05 0 2.83L4 21.41c.39.39.9.59 1.41.59.51 0 1.02-.2 1.41-.59l7.78-7.78 2.81-2.81c.8-.78.8-2.07 0-2.86zM5.41 20L4 18.59l7.72-7.72 1.47 1.35L5.41 20z\"/>\n",
              "  </svg>\n",
              "      </button>\n",
              "      \n",
              "  <style>\n",
              "    .colab-df-container {\n",
              "      display:flex;\n",
              "      flex-wrap:wrap;\n",
              "      gap: 12px;\n",
              "    }\n",
              "\n",
              "    .colab-df-convert {\n",
              "      background-color: #E8F0FE;\n",
              "      border: none;\n",
              "      border-radius: 50%;\n",
              "      cursor: pointer;\n",
              "      display: none;\n",
              "      fill: #1967D2;\n",
              "      height: 32px;\n",
              "      padding: 0 0 0 0;\n",
              "      width: 32px;\n",
              "    }\n",
              "\n",
              "    .colab-df-convert:hover {\n",
              "      background-color: #E2EBFA;\n",
              "      box-shadow: 0px 1px 2px rgba(60, 64, 67, 0.3), 0px 1px 3px 1px rgba(60, 64, 67, 0.15);\n",
              "      fill: #174EA6;\n",
              "    }\n",
              "\n",
              "    [theme=dark] .colab-df-convert {\n",
              "      background-color: #3B4455;\n",
              "      fill: #D2E3FC;\n",
              "    }\n",
              "\n",
              "    [theme=dark] .colab-df-convert:hover {\n",
              "      background-color: #434B5C;\n",
              "      box-shadow: 0px 1px 3px 1px rgba(0, 0, 0, 0.15);\n",
              "      filter: drop-shadow(0px 1px 2px rgba(0, 0, 0, 0.3));\n",
              "      fill: #FFFFFF;\n",
              "    }\n",
              "  </style>\n",
              "\n",
              "      <script>\n",
              "        const buttonEl =\n",
              "          document.querySelector('#df-f84d3e04-ad17-491c-a4a4-7ed94f9c616b button.colab-df-convert');\n",
              "        buttonEl.style.display =\n",
              "          google.colab.kernel.accessAllowed ? 'block' : 'none';\n",
              "\n",
              "        async function convertToInteractive(key) {\n",
              "          const element = document.querySelector('#df-f84d3e04-ad17-491c-a4a4-7ed94f9c616b');\n",
              "          const dataTable =\n",
              "            await google.colab.kernel.invokeFunction('convertToInteractive',\n",
              "                                                     [key], {});\n",
              "          if (!dataTable) return;\n",
              "\n",
              "          const docLinkHtml = 'Like what you see? Visit the ' +\n",
              "            '<a target=\"_blank\" href=https://colab.research.google.com/notebooks/data_table.ipynb>data table notebook</a>'\n",
              "            + ' to learn more about interactive tables.';\n",
              "          element.innerHTML = '';\n",
              "          dataTable['output_type'] = 'display_data';\n",
              "          await google.colab.output.renderOutput(dataTable, element);\n",
              "          const docLink = document.createElement('div');\n",
              "          docLink.innerHTML = docLinkHtml;\n",
              "          element.appendChild(docLink);\n",
              "        }\n",
              "      </script>\n",
              "    </div>\n",
              "  </div>\n",
              "  "
            ]
          },
          "metadata": {},
          "execution_count": 136
        }
      ]
    },
    {
      "cell_type": "code",
      "source": [
        "datos[(datos['Category']=='TV Show') & (datos['Country']=='Mexico')] # muestra los TV Shows solo de mexico"
      ],
      "metadata": {
        "id": "WRbXUTMinkud"
      },
      "execution_count": null,
      "outputs": []
    },
    {
      "cell_type": "code",
      "source": [
        "datos[(datos['Category']=='TV Show') & (datos['Country']=='Mexico')]['Title'] #muestra solo los titulos que es loq ue necesitamos"
      ],
      "metadata": {
        "id": "IrpZEUAwojWl"
      },
      "execution_count": null,
      "outputs": []
    },
    {
      "cell_type": "markdown",
      "source": [
        "****PREGUNTA 6. MOSTRAR EL TOP 10 DE DIRECTORES CON MAYOR CANTIDAD DE PROGRAMAS Y PELICULAS EN NETFLIX****"
      ],
      "metadata": {
        "id": "m_MHMEUlp74H"
      }
    },
    {
      "cell_type": "code",
      "source": [
        "datos['Director'].value_counts().head(10) # seleccionamos la columna director y hacemos un conteo mostrandonos los 10 primeros "
      ],
      "metadata": {
        "id": "V9iIo-UVpLhd"
      },
      "execution_count": null,
      "outputs": []
    },
    {
      "cell_type": "markdown",
      "source": [
        "****PREGUNTA 7. MOSTRAR LOS REGISTROS DONDE LA CATEGORIA SEA MOVIE Y EL TIPO SEA COMEDIES O DONDE EL COUNTRY SEA UNITED KINGDOM****"
      ],
      "metadata": {
        "id": "yxGHUB_xquy3"
      }
    },
    {
      "cell_type": "code",
      "source": [
        "datos.head(2)"
      ],
      "metadata": {
        "id": "YQU3_F7Gqd_Y"
      },
      "execution_count": null,
      "outputs": []
    },
    {
      "cell_type": "code",
      "source": [
        "datos[ (datos['Category']=='Movie') & (datos['Type']=='Comedies') ] # filtramos Movies que sean de Comedies"
      ],
      "metadata": {
        "id": "PpV_gGwvsLpV"
      },
      "execution_count": null,
      "outputs": []
    },
    {
      "cell_type": "code",
      "source": [
        "datos[ (datos['Category']=='Movie') & (datos['Type']=='Comedies') | (datos['Country']=='United Kingdom') ] # usamos operador OR  \"|\""
      ],
      "metadata": {
        "id": "aqa16ulAuQYz"
      },
      "execution_count": null,
      "outputs": []
    },
    {
      "cell_type": "markdown",
      "source": [
        "****Pregunta 8. ¿En cuantas peliculas o programas dentro del cast estuvo Tom Cruise?****"
      ],
      "metadata": {
        "id": "_LQDTcVbwGrJ"
      }
    },
    {
      "cell_type": "code",
      "source": [
        "datos.head(2)"
      ],
      "metadata": {
        "colab": {
          "base_uri": "https://localhost:8080/",
          "height": 278
        },
        "id": "8YTytE5Ju85m",
        "outputId": "f3a73f08-1414-401a-e123-84ee0fd6ca6c"
      },
      "execution_count": 146,
      "outputs": [
        {
          "output_type": "execute_result",
          "data": {
            "text/plain": [
              "  Show_Id Category  Title           Director  \\\n",
              "0      s1  TV Show     3%                NaN   \n",
              "1      s2    Movie  07:19  Jorge Michel Grau   \n",
              "\n",
              "                                                Cast Country  \\\n",
              "0  João Miguel, Bianca Comparato, Michel Gomes, R...  Brazil   \n",
              "1  Demián Bichir, Héctor Bonilla, Oscar Serrano, ...  Mexico   \n",
              "\n",
              "        Release_Date Rating   Duration  \\\n",
              "0    August 14, 2020  TV-MA  4 Seasons   \n",
              "1  December 23, 2016  TV-MA     93 min   \n",
              "\n",
              "                                                Type  \\\n",
              "0  International TV Shows, TV Dramas, TV Sci-Fi &...   \n",
              "1                       Dramas, International Movies   \n",
              "\n",
              "                                         Description    Datos_N    Year  \n",
              "0  In a future where the elite inhabit an island ... 2020-08-14  2020.0  \n",
              "1  After a devastating earthquake hits Mexico Cit... 2016-12-23  2016.0  "
            ],
            "text/html": [
              "\n",
              "  <div id=\"df-aec8c98c-4ce2-4811-9bd9-33caf68819e9\">\n",
              "    <div class=\"colab-df-container\">\n",
              "      <div>\n",
              "<style scoped>\n",
              "    .dataframe tbody tr th:only-of-type {\n",
              "        vertical-align: middle;\n",
              "    }\n",
              "\n",
              "    .dataframe tbody tr th {\n",
              "        vertical-align: top;\n",
              "    }\n",
              "\n",
              "    .dataframe thead th {\n",
              "        text-align: right;\n",
              "    }\n",
              "</style>\n",
              "<table border=\"1\" class=\"dataframe\">\n",
              "  <thead>\n",
              "    <tr style=\"text-align: right;\">\n",
              "      <th></th>\n",
              "      <th>Show_Id</th>\n",
              "      <th>Category</th>\n",
              "      <th>Title</th>\n",
              "      <th>Director</th>\n",
              "      <th>Cast</th>\n",
              "      <th>Country</th>\n",
              "      <th>Release_Date</th>\n",
              "      <th>Rating</th>\n",
              "      <th>Duration</th>\n",
              "      <th>Type</th>\n",
              "      <th>Description</th>\n",
              "      <th>Datos_N</th>\n",
              "      <th>Year</th>\n",
              "    </tr>\n",
              "  </thead>\n",
              "  <tbody>\n",
              "    <tr>\n",
              "      <th>0</th>\n",
              "      <td>s1</td>\n",
              "      <td>TV Show</td>\n",
              "      <td>3%</td>\n",
              "      <td>NaN</td>\n",
              "      <td>João Miguel, Bianca Comparato, Michel Gomes, R...</td>\n",
              "      <td>Brazil</td>\n",
              "      <td>August 14, 2020</td>\n",
              "      <td>TV-MA</td>\n",
              "      <td>4 Seasons</td>\n",
              "      <td>International TV Shows, TV Dramas, TV Sci-Fi &amp;...</td>\n",
              "      <td>In a future where the elite inhabit an island ...</td>\n",
              "      <td>2020-08-14</td>\n",
              "      <td>2020.0</td>\n",
              "    </tr>\n",
              "    <tr>\n",
              "      <th>1</th>\n",
              "      <td>s2</td>\n",
              "      <td>Movie</td>\n",
              "      <td>07:19</td>\n",
              "      <td>Jorge Michel Grau</td>\n",
              "      <td>Demián Bichir, Héctor Bonilla, Oscar Serrano, ...</td>\n",
              "      <td>Mexico</td>\n",
              "      <td>December 23, 2016</td>\n",
              "      <td>TV-MA</td>\n",
              "      <td>93 min</td>\n",
              "      <td>Dramas, International Movies</td>\n",
              "      <td>After a devastating earthquake hits Mexico Cit...</td>\n",
              "      <td>2016-12-23</td>\n",
              "      <td>2016.0</td>\n",
              "    </tr>\n",
              "  </tbody>\n",
              "</table>\n",
              "</div>\n",
              "      <button class=\"colab-df-convert\" onclick=\"convertToInteractive('df-aec8c98c-4ce2-4811-9bd9-33caf68819e9')\"\n",
              "              title=\"Convert this dataframe to an interactive table.\"\n",
              "              style=\"display:none;\">\n",
              "        \n",
              "  <svg xmlns=\"http://www.w3.org/2000/svg\" height=\"24px\"viewBox=\"0 0 24 24\"\n",
              "       width=\"24px\">\n",
              "    <path d=\"M0 0h24v24H0V0z\" fill=\"none\"/>\n",
              "    <path d=\"M18.56 5.44l.94 2.06.94-2.06 2.06-.94-2.06-.94-.94-2.06-.94 2.06-2.06.94zm-11 1L8.5 8.5l.94-2.06 2.06-.94-2.06-.94L8.5 2.5l-.94 2.06-2.06.94zm10 10l.94 2.06.94-2.06 2.06-.94-2.06-.94-.94-2.06-.94 2.06-2.06.94z\"/><path d=\"M17.41 7.96l-1.37-1.37c-.4-.4-.92-.59-1.43-.59-.52 0-1.04.2-1.43.59L10.3 9.45l-7.72 7.72c-.78.78-.78 2.05 0 2.83L4 21.41c.39.39.9.59 1.41.59.51 0 1.02-.2 1.41-.59l7.78-7.78 2.81-2.81c.8-.78.8-2.07 0-2.86zM5.41 20L4 18.59l7.72-7.72 1.47 1.35L5.41 20z\"/>\n",
              "  </svg>\n",
              "      </button>\n",
              "      \n",
              "  <style>\n",
              "    .colab-df-container {\n",
              "      display:flex;\n",
              "      flex-wrap:wrap;\n",
              "      gap: 12px;\n",
              "    }\n",
              "\n",
              "    .colab-df-convert {\n",
              "      background-color: #E8F0FE;\n",
              "      border: none;\n",
              "      border-radius: 50%;\n",
              "      cursor: pointer;\n",
              "      display: none;\n",
              "      fill: #1967D2;\n",
              "      height: 32px;\n",
              "      padding: 0 0 0 0;\n",
              "      width: 32px;\n",
              "    }\n",
              "\n",
              "    .colab-df-convert:hover {\n",
              "      background-color: #E2EBFA;\n",
              "      box-shadow: 0px 1px 2px rgba(60, 64, 67, 0.3), 0px 1px 3px 1px rgba(60, 64, 67, 0.15);\n",
              "      fill: #174EA6;\n",
              "    }\n",
              "\n",
              "    [theme=dark] .colab-df-convert {\n",
              "      background-color: #3B4455;\n",
              "      fill: #D2E3FC;\n",
              "    }\n",
              "\n",
              "    [theme=dark] .colab-df-convert:hover {\n",
              "      background-color: #434B5C;\n",
              "      box-shadow: 0px 1px 3px 1px rgba(0, 0, 0, 0.15);\n",
              "      filter: drop-shadow(0px 1px 2px rgba(0, 0, 0, 0.3));\n",
              "      fill: #FFFFFF;\n",
              "    }\n",
              "  </style>\n",
              "\n",
              "      <script>\n",
              "        const buttonEl =\n",
              "          document.querySelector('#df-aec8c98c-4ce2-4811-9bd9-33caf68819e9 button.colab-df-convert');\n",
              "        buttonEl.style.display =\n",
              "          google.colab.kernel.accessAllowed ? 'block' : 'none';\n",
              "\n",
              "        async function convertToInteractive(key) {\n",
              "          const element = document.querySelector('#df-aec8c98c-4ce2-4811-9bd9-33caf68819e9');\n",
              "          const dataTable =\n",
              "            await google.colab.kernel.invokeFunction('convertToInteractive',\n",
              "                                                     [key], {});\n",
              "          if (!dataTable) return;\n",
              "\n",
              "          const docLinkHtml = 'Like what you see? Visit the ' +\n",
              "            '<a target=\"_blank\" href=https://colab.research.google.com/notebooks/data_table.ipynb>data table notebook</a>'\n",
              "            + ' to learn more about interactive tables.';\n",
              "          element.innerHTML = '';\n",
              "          dataTable['output_type'] = 'display_data';\n",
              "          await google.colab.output.renderOutput(dataTable, element);\n",
              "          const docLink = document.createElement('div');\n",
              "          docLink.innerHTML = docLinkHtml;\n",
              "          element.appendChild(docLink);\n",
              "        }\n",
              "      </script>\n",
              "    </div>\n",
              "  </div>\n",
              "  "
            ]
          },
          "metadata": {},
          "execution_count": 146
        }
      ]
    },
    {
      "cell_type": "code",
      "source": [
        "datos[datos['Cast'] == 'Tom Cruise']"
      ],
      "metadata": {
        "colab": {
          "base_uri": "https://localhost:8080/",
          "height": 49
        },
        "id": "z5UibHMcwapu",
        "outputId": "f8ef3eff-4195-4b2b-a33f-bb44a7080154"
      },
      "execution_count": 152,
      "outputs": [
        {
          "output_type": "execute_result",
          "data": {
            "text/plain": [
              "Empty DataFrame\n",
              "Columns: [Show_Id, Category, Title, Director, Cast, Country, Release_Date, Rating, Duration, Type, Description, Datos_N, Year]\n",
              "Index: []"
            ],
            "text/html": [
              "\n",
              "  <div id=\"df-ecbf5704-d550-4532-af30-d37c59aad5f8\">\n",
              "    <div class=\"colab-df-container\">\n",
              "      <div>\n",
              "<style scoped>\n",
              "    .dataframe tbody tr th:only-of-type {\n",
              "        vertical-align: middle;\n",
              "    }\n",
              "\n",
              "    .dataframe tbody tr th {\n",
              "        vertical-align: top;\n",
              "    }\n",
              "\n",
              "    .dataframe thead th {\n",
              "        text-align: right;\n",
              "    }\n",
              "</style>\n",
              "<table border=\"1\" class=\"dataframe\">\n",
              "  <thead>\n",
              "    <tr style=\"text-align: right;\">\n",
              "      <th></th>\n",
              "      <th>Show_Id</th>\n",
              "      <th>Category</th>\n",
              "      <th>Title</th>\n",
              "      <th>Director</th>\n",
              "      <th>Cast</th>\n",
              "      <th>Country</th>\n",
              "      <th>Release_Date</th>\n",
              "      <th>Rating</th>\n",
              "      <th>Duration</th>\n",
              "      <th>Type</th>\n",
              "      <th>Description</th>\n",
              "      <th>Datos_N</th>\n",
              "      <th>Year</th>\n",
              "    </tr>\n",
              "  </thead>\n",
              "  <tbody>\n",
              "  </tbody>\n",
              "</table>\n",
              "</div>\n",
              "      <button class=\"colab-df-convert\" onclick=\"convertToInteractive('df-ecbf5704-d550-4532-af30-d37c59aad5f8')\"\n",
              "              title=\"Convert this dataframe to an interactive table.\"\n",
              "              style=\"display:none;\">\n",
              "        \n",
              "  <svg xmlns=\"http://www.w3.org/2000/svg\" height=\"24px\"viewBox=\"0 0 24 24\"\n",
              "       width=\"24px\">\n",
              "    <path d=\"M0 0h24v24H0V0z\" fill=\"none\"/>\n",
              "    <path d=\"M18.56 5.44l.94 2.06.94-2.06 2.06-.94-2.06-.94-.94-2.06-.94 2.06-2.06.94zm-11 1L8.5 8.5l.94-2.06 2.06-.94-2.06-.94L8.5 2.5l-.94 2.06-2.06.94zm10 10l.94 2.06.94-2.06 2.06-.94-2.06-.94-.94-2.06-.94 2.06-2.06.94z\"/><path d=\"M17.41 7.96l-1.37-1.37c-.4-.4-.92-.59-1.43-.59-.52 0-1.04.2-1.43.59L10.3 9.45l-7.72 7.72c-.78.78-.78 2.05 0 2.83L4 21.41c.39.39.9.59 1.41.59.51 0 1.02-.2 1.41-.59l7.78-7.78 2.81-2.81c.8-.78.8-2.07 0-2.86zM5.41 20L4 18.59l7.72-7.72 1.47 1.35L5.41 20z\"/>\n",
              "  </svg>\n",
              "      </button>\n",
              "      \n",
              "  <style>\n",
              "    .colab-df-container {\n",
              "      display:flex;\n",
              "      flex-wrap:wrap;\n",
              "      gap: 12px;\n",
              "    }\n",
              "\n",
              "    .colab-df-convert {\n",
              "      background-color: #E8F0FE;\n",
              "      border: none;\n",
              "      border-radius: 50%;\n",
              "      cursor: pointer;\n",
              "      display: none;\n",
              "      fill: #1967D2;\n",
              "      height: 32px;\n",
              "      padding: 0 0 0 0;\n",
              "      width: 32px;\n",
              "    }\n",
              "\n",
              "    .colab-df-convert:hover {\n",
              "      background-color: #E2EBFA;\n",
              "      box-shadow: 0px 1px 2px rgba(60, 64, 67, 0.3), 0px 1px 3px 1px rgba(60, 64, 67, 0.15);\n",
              "      fill: #174EA6;\n",
              "    }\n",
              "\n",
              "    [theme=dark] .colab-df-convert {\n",
              "      background-color: #3B4455;\n",
              "      fill: #D2E3FC;\n",
              "    }\n",
              "\n",
              "    [theme=dark] .colab-df-convert:hover {\n",
              "      background-color: #434B5C;\n",
              "      box-shadow: 0px 1px 3px 1px rgba(0, 0, 0, 0.15);\n",
              "      filter: drop-shadow(0px 1px 2px rgba(0, 0, 0, 0.3));\n",
              "      fill: #FFFFFF;\n",
              "    }\n",
              "  </style>\n",
              "\n",
              "      <script>\n",
              "        const buttonEl =\n",
              "          document.querySelector('#df-ecbf5704-d550-4532-af30-d37c59aad5f8 button.colab-df-convert');\n",
              "        buttonEl.style.display =\n",
              "          google.colab.kernel.accessAllowed ? 'block' : 'none';\n",
              "\n",
              "        async function convertToInteractive(key) {\n",
              "          const element = document.querySelector('#df-ecbf5704-d550-4532-af30-d37c59aad5f8');\n",
              "          const dataTable =\n",
              "            await google.colab.kernel.invokeFunction('convertToInteractive',\n",
              "                                                     [key], {});\n",
              "          if (!dataTable) return;\n",
              "\n",
              "          const docLinkHtml = 'Like what you see? Visit the ' +\n",
              "            '<a target=\"_blank\" href=https://colab.research.google.com/notebooks/data_table.ipynb>data table notebook</a>'\n",
              "            + ' to learn more about interactive tables.';\n",
              "          element.innerHTML = '';\n",
              "          dataTable['output_type'] = 'display_data';\n",
              "          await google.colab.output.renderOutput(dataTable, element);\n",
              "          const docLink = document.createElement('div');\n",
              "          docLink.innerHTML = docLinkHtml;\n",
              "          element.appendChild(docLink);\n",
              "        }\n",
              "      </script>\n",
              "    </div>\n",
              "  </div>\n",
              "  "
            ]
          },
          "metadata": {},
          "execution_count": 152
        }
      ]
    },
    {
      "cell_type": "code",
      "source": [
        "datos[datos['Cast'].str.contains('Tom Cruise')] # tendremos errores ya que en la columna Cast existen valores nulos o faltantes"
      ],
      "metadata": {
        "id": "KQG1myNTwzq9"
      },
      "execution_count": null,
      "outputs": []
    },
    {
      "cell_type": "code",
      "source": [
        "datos_new = datos.dropna() # creamos nuevo DF descartando las filas que contienen todos o cualquier valor faltante"
      ],
      "metadata": {
        "id": "xlh4xgVXyGfp"
      },
      "execution_count": 157,
      "outputs": []
    },
    {
      "cell_type": "code",
      "source": [
        "datos_new.head(2)"
      ],
      "metadata": {
        "id": "6q0iLmxm0LXy"
      },
      "execution_count": null,
      "outputs": []
    },
    {
      "cell_type": "code",
      "source": [
        "datos_new[datos_new['Cast'].str.contains('Tom Cruise')] #hemos corregido el error de los valores faltantes, volvemos a usar el mismo codigo que tenia error para comprobar"
      ],
      "metadata": {
        "id": "NVoibMmw0NkD"
      },
      "execution_count": null,
      "outputs": []
    },
    {
      "cell_type": "markdown",
      "source": [
        "****PREGUNTA 9. ¿Cuales son los diferentes raitings definidos por Netflix?****"
      ],
      "metadata": {
        "id": "qD9L1nkC1Ezy"
      }
    },
    {
      "cell_type": "code",
      "source": [
        "datos.head(2)"
      ],
      "metadata": {
        "id": "QbDkn36w0b_Q"
      },
      "execution_count": null,
      "outputs": []
    },
    {
      "cell_type": "code",
      "source": [
        "datos.Rating.nunique() #RETORNA EL NUMERO DE ELEMENTOS UNICOS DEL OBJETO, NOS REGRESA UN ESCALAR"
      ],
      "metadata": {
        "id": "ZUIEFCaA2OOo"
      },
      "execution_count": null,
      "outputs": []
    },
    {
      "cell_type": "code",
      "source": [
        "datos.Rating.unique() #RETORNA LOS VALORES UNICOS DE CADA UNO DE LOS ELEMENTOS ANTERIORES"
      ],
      "metadata": {
        "id": "EBLaLT1c2nB2"
      },
      "execution_count": null,
      "outputs": []
    },
    {
      "cell_type": "markdown",
      "source": [
        "****PREGUNTA 9.1 ¿CUANTAS PELICULAS OBTUVIERON UN RATING \"TV-14 EN CANADA?****"
      ],
      "metadata": {
        "id": "7c_iMfVN3iCb"
      }
    },
    {
      "cell_type": "code",
      "source": [
        "datos.head(2)"
      ],
      "metadata": {
        "id": "WuPkh_853NwO"
      },
      "execution_count": null,
      "outputs": []
    },
    {
      "cell_type": "code",
      "source": [
        "datos[(datos['Category']=='Movie') & (datos['Rating']=='TV-14')].shape"
      ],
      "metadata": {
        "id": "OLvPThGz42Ic"
      },
      "execution_count": null,
      "outputs": []
    },
    {
      "cell_type": "code",
      "source": [
        "datos[(datos['Category']=='Movie') & (datos['Rating']=='TV-14') & (datos['Country']=='Canada')].shape #cumplimos las tres condiciones peliculas, TV-14 y Canada, son 11 peliculas\n"
      ],
      "metadata": {
        "id": "nZpfvqI95D-X"
      },
      "execution_count": null,
      "outputs": []
    },
    {
      "cell_type": "markdown",
      "source": [
        "****PREGUNTA 9.1 ¿CUANTOS PROGRAMAS DE TELEVISION OBTUVIERON UN RATING \"R\" DESPUES DEL AÑO 2018?****"
      ],
      "metadata": {
        "id": "l5ofkXMG6MRF"
      }
    },
    {
      "cell_type": "code",
      "source": [
        "datos.head(2)"
      ],
      "metadata": {
        "id": "Xv52Oluk5W_t"
      },
      "execution_count": null,
      "outputs": []
    },
    {
      "cell_type": "code",
      "source": [
        "datos[(datos['Category']=='TV Show') & (datos['Rating']=='R') & (datos['Year']>2018)].shape #tenemos las tres condiciones requeridas"
      ],
      "metadata": {
        "id": "7wbgz1W37JP6"
      },
      "execution_count": null,
      "outputs": []
    },
    {
      "cell_type": "code",
      "source": [
        "datos[(datos['Category']=='TV Show') & (datos['Rating']=='R') & (datos['Year']>2018)] #obtenemos mayor detalle del programa"
      ],
      "metadata": {
        "id": "xwPt_3Ff7d1H"
      },
      "execution_count": null,
      "outputs": []
    },
    {
      "cell_type": "markdown",
      "source": [
        "****PREGUNTA 10. ¿CUAL ES LA MAXIMA DURACION DE UN PROGRAMA O PELICULA EN NETFLIX?****"
      ],
      "metadata": {
        "id": "Fa4bP8W-8YwL"
      }
    },
    {
      "cell_type": "code",
      "source": [
        "datos.head(2)"
      ],
      "metadata": {
        "id": "LRkfzHPk7vHe"
      },
      "execution_count": null,
      "outputs": []
    },
    {
      "cell_type": "code",
      "source": [
        "datos.Duration.unique()"
      ],
      "metadata": {
        "id": "-GsiPlVZ85or"
      },
      "execution_count": null,
      "outputs": []
    },
    {
      "cell_type": "code",
      "source": [
        "datos.Duration.dtypes #tienen formato de objeto 'o'"
      ],
      "metadata": {
        "id": "HU8KLE9O8_YV"
      },
      "execution_count": null,
      "outputs": []
    },
    {
      "cell_type": "code",
      "source": [
        "datos[['Minutes', 'Unit']] = datos['Duration'].str.split(' ', expand = True) #creamos dos nuevas columnas donde partimos la duracion "
      ],
      "metadata": {
        "id": "1PrEPGUn9Nw1"
      },
      "execution_count": 188,
      "outputs": []
    },
    {
      "cell_type": "code",
      "source": [
        "datos.head(2)"
      ],
      "metadata": {
        "id": "qcXy9WM3-Iwv"
      },
      "execution_count": null,
      "outputs": []
    },
    {
      "cell_type": "code",
      "source": [
        "datos['Minutes'].max()"
      ],
      "metadata": {
        "id": "I3TYkZ3g_6z2"
      },
      "execution_count": null,
      "outputs": []
    },
    {
      "cell_type": "code",
      "source": [
        "datos.Minutes.min()"
      ],
      "metadata": {
        "colab": {
          "base_uri": "https://localhost:8080/",
          "height": 36
        },
        "id": "ptBcWwyDAhpl",
        "outputId": "3083223d-3e41-4063-8376-6102a2780ee6"
      },
      "execution_count": 193,
      "outputs": [
        {
          "output_type": "execute_result",
          "data": {
            "text/plain": [
              "'1'"
            ],
            "application/vnd.google.colaboratory.intrinsic+json": {
              "type": "string"
            }
          },
          "metadata": {},
          "execution_count": 193
        }
      ]
    },
    {
      "cell_type": "markdown",
      "source": [
        "****PREGUNTA 11. ¿QUE PAIS TIENE EL MAYOR NUMERO DE PROGRAMAS DE TELEVISION?****"
      ],
      "metadata": {
        "id": "uStbbhudBkZm"
      }
    },
    {
      "cell_type": "code",
      "source": [
        "datos.head(2)"
      ],
      "metadata": {
        "id": "hRDboMv6A97l"
      },
      "execution_count": null,
      "outputs": []
    },
    {
      "cell_type": "code",
      "source": [
        "datos_tvshows = datos[(datos['Category']=='TV Show')] #creamos nuevo DF donde solo aparezcan los TV Shows"
      ],
      "metadata": {
        "id": "Qot8_RfmBy7K"
      },
      "execution_count": 197,
      "outputs": []
    },
    {
      "cell_type": "code",
      "source": [
        "datos_tvshows.head(2)"
      ],
      "metadata": {
        "id": "k1stJQRQCVTi"
      },
      "execution_count": null,
      "outputs": []
    },
    {
      "cell_type": "code",
      "source": [
        "datos_tvshows['Country'].value_counts()"
      ],
      "metadata": {
        "id": "HUxTWWJ8CzwL"
      },
      "execution_count": null,
      "outputs": []
    },
    {
      "cell_type": "code",
      "source": [
        "datos_tvshows['Country'].value_counts().head(1)"
      ],
      "metadata": {
        "id": "L3W6jUxSDMDj"
      },
      "execution_count": null,
      "outputs": []
    },
    {
      "cell_type": "markdown",
      "source": [
        "****PREGUNTA 12. ¿COMO PODEMOS ORDENAR EL DATASET POR AÑO?****"
      ],
      "metadata": {
        "id": "6vYU-mayESSa"
      }
    },
    {
      "cell_type": "code",
      "source": [
        "datos.head(2)"
      ],
      "metadata": {
        "id": "UNWu6iqoDmQK"
      },
      "execution_count": null,
      "outputs": []
    },
    {
      "cell_type": "code",
      "source": [
        "datos.sort_values(by='Year').head(2)"
      ],
      "metadata": {
        "id": "KbNVosJ4Ett-"
      },
      "execution_count": null,
      "outputs": []
    },
    {
      "cell_type": "code",
      "source": [
        "datos.sort_values(by='Year', ascending=False)"
      ],
      "metadata": {
        "id": "B0OBHsVME3TQ"
      },
      "execution_count": null,
      "outputs": []
    },
    {
      "cell_type": "markdown",
      "source": [
        "****PREGUNTA 13. eNCUENTRA TODAS LAS INSTANCIAS DONDE:\n",
        "LA CATEGORIA ES MOVIE Y EL TIPO ES DRAMA O LA CATEGORIA ES TV SHOW Y EL TIPO ES KIDS TV****"
      ],
      "metadata": {
        "id": "SE17kBRLFof2"
      }
    },
    {
      "cell_type": "code",
      "source": [
        "datos.head()"
      ],
      "metadata": {
        "id": "9StogqU-FDzn"
      },
      "execution_count": null,
      "outputs": []
    },
    {
      "cell_type": "code",
      "source": [
        "datos.Type.unique()"
      ],
      "metadata": {
        "id": "jg3k24_fG41J"
      },
      "execution_count": null,
      "outputs": []
    },
    {
      "cell_type": "code",
      "source": [
        "datos[(datos['Category']=='Movie') & (datos['Type']=='Dramas')]"
      ],
      "metadata": {
        "id": "N4n6JBMuHZis"
      },
      "execution_count": null,
      "outputs": []
    },
    {
      "cell_type": "code",
      "source": [
        "datos[(datos['Category']=='TV Show') & (datos['Type']==\"Kids' TV\")]"
      ],
      "metadata": {
        "id": "ablv3xI_Hu90"
      },
      "execution_count": null,
      "outputs": []
    },
    {
      "cell_type": "code",
      "source": [
        "datos[(datos['Category']=='Movie') & (datos['Type']=='Dramas') | (datos['Category']=='TV Show') & (datos['Type']==\"Kids' TV\")]"
      ],
      "metadata": {
        "id": "_fUPGYHuIAdD"
      },
      "execution_count": null,
      "outputs": []
    },
    {
      "cell_type": "code",
      "source": [],
      "metadata": {
        "id": "vOEzcYyGJF06"
      },
      "execution_count": null,
      "outputs": []
    }
  ]
}